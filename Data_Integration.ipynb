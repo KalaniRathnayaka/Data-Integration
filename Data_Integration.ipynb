{
  "nbformat": 4,
  "nbformat_minor": 0,
  "metadata": {
    "colab": {
      "provenance": []
    },
    "kernelspec": {
      "name": "python3",
      "display_name": "Python 3"
    },
    "language_info": {
      "name": "python"
    }
  },
  "cells": [
    {
      "cell_type": "code",
      "execution_count": 1,
      "metadata": {
        "id": "KoS-ZgWFvbvC"
      },
      "outputs": [],
      "source": [
        "# Import Libraries\n",
        "import pandas as pd"
      ]
    },
    {
      "cell_type": "code",
      "source": [
        "# Create users DataFrame\n",
        "users = pd.DataFrame({\n",
        "    'user_id': [1, 2, 3, 4],\n",
        "    'name': ['Alice', 'Bob', 'Charlie', 'Diana'],\n",
        "    'age': [28, 34, 22, 30],\n",
        "    'country': ['USA', 'UK', 'Canada', 'Australia']\n",
        "})\n"
      ],
      "metadata": {
        "id": "F-GBFMRQvkRS"
      },
      "execution_count": 2,
      "outputs": []
    },
    {
      "cell_type": "code",
      "source": [
        "# Create orders DataFrame\n",
        "orders = pd.DataFrame({\n",
        "    'order_id': [101, 102, 103, 104],\n",
        "    'user_id': [1, 2, 1, 3],\n",
        "    'product': ['Laptop', 'Keyboard', 'Mouse', 'Smartphone'],\n",
        "    'amount': [1200, 150, 50, 900]\n",
        "})\n"
      ],
      "metadata": {
        "id": "SWTnf2gbwAV0"
      },
      "execution_count": 3,
      "outputs": []
    },
    {
      "cell_type": "code",
      "source": [
        "# Merge datasets on 'user_id'\n",
        "combined = pd.merge(orders, users, on='user_id')"
      ],
      "metadata": {
        "id": "4agA4ee6wGyR"
      },
      "execution_count": 4,
      "outputs": []
    },
    {
      "cell_type": "code",
      "source": [
        "# Display the integrated dataset\n",
        "print(\"\\n Combined Data:\")\n",
        "print(combined)"
      ],
      "metadata": {
        "colab": {
          "base_uri": "https://localhost:8080/"
        },
        "id": "4sR0obUCwL5s",
        "outputId": "1d1461e8-c22c-488c-d11c-e503abedc62c"
      },
      "execution_count": 5,
      "outputs": [
        {
          "output_type": "stream",
          "name": "stdout",
          "text": [
            "\n",
            " Combined Data:\n",
            "   order_id  user_id     product  amount     name  age country\n",
            "0       101        1      Laptop    1200    Alice   28     USA\n",
            "1       102        2    Keyboard     150      Bob   34      UK\n",
            "2       103        1       Mouse      50    Alice   28     USA\n",
            "3       104        3  Smartphone     900  Charlie   22  Canada\n"
          ]
        }
      ]
    }
  ]
}