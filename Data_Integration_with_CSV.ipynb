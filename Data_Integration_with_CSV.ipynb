{
  "nbformat": 4,
  "nbformat_minor": 0,
  "metadata": {
    "colab": {
      "provenance": []
    },
    "kernelspec": {
      "name": "python3",
      "display_name": "Python 3"
    },
    "language_info": {
      "name": "python"
    }
  },
  "cells": [
    {
      "cell_type": "code",
      "execution_count": 1,
      "metadata": {
        "id": "VYtvOsfXxFxF"
      },
      "outputs": [],
      "source": [
        "# Import Libraries\n",
        "import pandas as pd"
      ]
    },
    {
      "cell_type": "code",
      "source": [
        "# Read the CSV files\n",
        "users_df = pd.read_csv('users.csv')\n",
        "orders_df = pd.read_csv('orders.csv')"
      ],
      "metadata": {
        "id": "d8v60F0MycWH"
      },
      "execution_count": 3,
      "outputs": []
    },
    {
      "cell_type": "code",
      "source": [
        "# Display the raw data\n",
        "print(\" Users Data:\")\n",
        "print(users_df)\n",
        "\n",
        "print(\"\\n Orders Data:\")\n",
        "print(orders_df)"
      ],
      "metadata": {
        "colab": {
          "base_uri": "https://localhost:8080/"
        },
        "id": "PXEQ1Sodym2D",
        "outputId": "aa4310d5-32d3-465f-b309-bfa80b11c93f"
      },
      "execution_count": 4,
      "outputs": [
        {
          "output_type": "stream",
          "name": "stdout",
          "text": [
            " Users Data:\n",
            "   user_id     name  age    country\n",
            "0        1    Alice   28        USA\n",
            "1        2      Bob   34         UK\n",
            "2        3  Charlie   22     Canada\n",
            "3        4    Diana   30  Australia\n",
            "\n",
            " Orders Data:\n",
            "   order_id  user_id     product  amount\n",
            "0       101        1      Laptop    1200\n",
            "1       102        2    Keyboard     150\n",
            "2       103        1       Mouse      50\n",
            "3       104        3  Smartphone     900\n",
            "4       105        4     Monitor     300\n"
          ]
        }
      ]
    },
    {
      "cell_type": "code",
      "source": [
        "# Merge the datasets on 'user_id'\n",
        "combined_df = pd.merge(orders_df, users_df, on='user_id')\n"
      ],
      "metadata": {
        "id": "gSfCMPk7yqak"
      },
      "execution_count": 5,
      "outputs": []
    },
    {
      "cell_type": "code",
      "source": [
        "# Display merged data\n",
        "print(\"\\n Combined Data (Orders + Users):\")\n",
        "print(combined_df)"
      ],
      "metadata": {
        "colab": {
          "base_uri": "https://localhost:8080/"
        },
        "id": "v2LnPGGAyueA",
        "outputId": "850b37f6-5709-401f-b3cd-f4a6d2b74a64"
      },
      "execution_count": 6,
      "outputs": [
        {
          "output_type": "stream",
          "name": "stdout",
          "text": [
            "\n",
            " Combined Data (Orders + Users):\n",
            "   order_id  user_id     product  amount     name  age    country\n",
            "0       101        1      Laptop    1200    Alice   28        USA\n",
            "1       102        2    Keyboard     150      Bob   34         UK\n",
            "2       103        1       Mouse      50    Alice   28        USA\n",
            "3       104        3  Smartphone     900  Charlie   22     Canada\n",
            "4       105        4     Monitor     300    Diana   30  Australia\n"
          ]
        }
      ]
    },
    {
      "cell_type": "code",
      "source": [
        "# Optional - Do some basic analysis\n",
        "print(\"\\n Total Amount Spent by Each User:\")\n",
        "print(combined_df.groupby('name')['amount'].sum())\n",
        "\n",
        "print(\"\\n Orders by Country:\")\n",
        "print(combined_df['country'].value_counts())"
      ],
      "metadata": {
        "colab": {
          "base_uri": "https://localhost:8080/"
        },
        "id": "l-JY7OOqyzlR",
        "outputId": "5112141e-5d6e-40fe-a255-e29c0c5a5065"
      },
      "execution_count": 7,
      "outputs": [
        {
          "output_type": "stream",
          "name": "stdout",
          "text": [
            "\n",
            " Total Amount Spent by Each User:\n",
            "name\n",
            "Alice      1250\n",
            "Bob         150\n",
            "Charlie     900\n",
            "Diana       300\n",
            "Name: amount, dtype: int64\n",
            "\n",
            " Orders by Country:\n",
            "country\n",
            "USA          2\n",
            "UK           1\n",
            "Canada       1\n",
            "Australia    1\n",
            "Name: count, dtype: int64\n"
          ]
        }
      ]
    }
  ]
}